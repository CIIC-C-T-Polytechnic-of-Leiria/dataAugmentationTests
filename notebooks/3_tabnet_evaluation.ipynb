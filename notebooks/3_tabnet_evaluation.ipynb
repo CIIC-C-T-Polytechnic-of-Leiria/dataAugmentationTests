{
 "cells": [
  {
   "cell_type": "markdown",
   "metadata": {},
   "source": [
    "### Libraries"
   ]
  },
  {
   "cell_type": "code",
   "execution_count": 67,
   "metadata": {},
   "outputs": [],
   "source": [
    "%%capture\n",
    "%reset -f                        # clear all variables from the workspace\n",
    "'generic imports'\n",
    "import os\n",
    "import pandas as pd\n",
    "import datetime\n",
    "import numpy as np\n",
    "import sys\n",
    "sys.path.append(os.path.abspath('..'))\n",
    "from src import utils\n",
    "import importlib\n",
    "importlib.reload(utils)        \n",
    "\n",
    "'machine learning imports'\n",
    "import torch\n",
    "from pytorch_tabnet.tab_model import TabNetClassifier\n",
    "from sklearn import metrics\n",
    "from sklearn.preprocessing import LabelEncoder\n",
    "from sklearn.utils import shuffle"
   ]
  },
  {
   "cell_type": "code",
   "execution_count": 68,
   "metadata": {},
   "outputs": [
    {
     "name": "stdout",
     "output_type": "stream",
     "text": [
      "environ({'CHROME_DESKTOP': 'code-url-handler.desktop', 'CONDA_DEFAULT_ENV': 'tab_aug', 'CONDA_EXE': '/home/tiagociic/miniconda3/bin/conda', 'CONDA_PREFIX': '/home/tiagociic/miniconda3/envs/tab_aug', 'CONDA_PROMPT_MODIFIER': '(tab_aug) ', 'CONDA_PYTHON_EXE': '/home/tiagociic/miniconda3/bin/python', 'CONDA_SHLVL': '2', 'DBUS_SESSION_BUS_ADDRESS': 'unix:path=/run/user/1000/bus', 'DESKTOP_SESSION': 'pop', 'DISPLAY': ':1', 'GDK_BACKEND': 'x11', 'GDMSESSION': 'pop', 'GIO_LAUNCHED_DESKTOP_FILE': '/usr/share/applications/code.desktop', 'GIO_LAUNCHED_DESKTOP_FILE_PID': '6582', 'GJS_DEBUG_OUTPUT': 'stderr', 'GJS_DEBUG_TOPICS': 'JS ERROR;JS LOG', 'GNOME_DESKTOP_SESSION_ID': 'this-is-deprecated', 'GNOME_SHELL_SESSION_MODE': 'pop', 'GPG_AGENT_INFO': '/run/user/1000/gnupg/S.gpg-agent:0:1', 'GTK_IM_MODULE': 'ibus', 'GTK_MODULES': 'gail:atk-bridge', 'HOME': '/home/tiagociic', 'INVOCATION_ID': '059b22abe0824844a1564501e744a431', 'JOURNAL_STREAM': '8:55484', 'LANG': 'pt_PT.UTF-8', 'LESSCLOSE': '/usr/bin/lesspipe %s %s', 'LESSOPEN': '| /usr/bin/lesspipe %s', 'LOGNAME': 'tiagociic', 'MANAGERPID': '5757', 'ORIGINAL_XDG_CURRENT_DESKTOP': 'pop:GNOME', 'PATH': '/home/tiagociic/miniconda3/envs/tab_aug/bin:/home/tiagociic/.local/bin:/home/tiagociic/miniconda3/envs/tab_aug/bin:/home/tiagociic/miniconda3/condabin:/home/tiagociic/.local/bin:/usr/local/sbin:/usr/local/bin:/usr/sbin:/usr/bin:/sbin:/bin:/usr/games:/usr/local/games:/snap/bin', 'PWD': '/home/tiagociic', 'QT_ACCESSIBILITY': '1', 'QT_IM_MODULE': 'ibus', 'SESSION_MANAGER': 'local/pop-os:@/tmp/.ICE-unix/6000,unix/pop-os:/tmp/.ICE-unix/6000', 'SHELL': '/bin/bash', 'SHLVL': '1', 'SSH_AGENT_LAUNCHER': 'gnome-keyring', 'SSH_AUTH_SOCK': '/run/user/1000/keyring/ssh', 'SYSTEMD_EXEC_PID': '6018', 'USER': 'tiagociic', 'USERNAME': 'tiagociic', 'VSCODE_AMD_ENTRYPOINT': 'vs/workbench/api/node/extensionHostProcess', 'VSCODE_CODE_CACHE_PATH': '/home/tiagociic/.config/Code/CachedData/1a5daa3a0231a0fbba4f14db7ec463cf99d7768e', 'VSCODE_CRASH_REPORTER_PROCESS_TYPE': 'extensionHost', 'VSCODE_CWD': '/home/tiagociic', 'VSCODE_HANDLES_UNCAUGHT_ERRORS': 'true', 'VSCODE_IPC_HOOK': '/run/user/1000/vscode-7e42c7fa-1.84-main.sock', 'VSCODE_NLS_CONFIG': '{\"locale\":\"en-us\",\"osLocale\":\"pt-pt\",\"availableLanguages\":{},\"_languagePackSupport\":true}', 'VSCODE_PID': '6582', 'WINDOWPATH': '2', 'XAUTHORITY': '/run/user/1000/gdm/Xauthority', 'XDG_CONFIG_DIRS': '/etc/xdg/xdg-pop:/etc/xdg', 'XDG_CURRENT_DESKTOP': 'Unity', 'XDG_DATA_DIRS': '/usr/share/pop:/usr/share/gnome:/home/tiagociic/.local/share/flatpak/exports/share:/var/lib/flatpak/exports/share:/usr/local/share/:/usr/share/', 'XDG_MENU_PREFIX': 'gnome-', 'XDG_RUNTIME_DIR': '/run/user/1000', 'XDG_SESSION_CLASS': 'user', 'XDG_SESSION_DESKTOP': 'pop', 'XDG_SESSION_TYPE': 'x11', 'XMODIFIERS': '@im=ibus', '_': '/home/tiagociic/miniconda3/envs/tab_aug/bin/python', 'ELECTRON_RUN_AS_NODE': '1', 'APPLICATION_INSIGHTS_NO_DIAGNOSTIC_CHANNEL': '1', 'GCC_RANLIB': '/home/tiagociic/miniconda3/envs/tab_aug/bin/x86_64-conda-linux-gnu-gcc-ranlib', 'PYTHONUNBUFFERED': '1', '_CE_M': '', 'build_alias': 'x86_64-conda-linux-gnu', 'CMAKE_ARGS': '-DCMAKE_LINKER=/home/tiagociic/miniconda3/envs/tab_aug/bin/x86_64-conda-linux-gnu-ld -DCMAKE_STRIP=/home/tiagociic/miniconda3/envs/tab_aug/bin/x86_64-conda-linux-gnu-strip', 'GPROF': '/home/tiagociic/miniconda3/envs/tab_aug/bin/x86_64-conda-linux-gnu-gprof', '_CONDA_PYTHON_SYSCONFIGDATA_NAME': '_sysconfigdata_x86_64_conda_cos7_linux_gnu', 'STRINGS': '/home/tiagociic/miniconda3/envs/tab_aug/bin/x86_64-conda-linux-gnu-strings', 'CPP': '/home/tiagociic/miniconda3/envs/tab_aug/bin/x86_64-conda-linux-gnu-cpp', 'CONDA_ROOT': '/home/tiagociic/miniconda3', 'CXX': '/home/tiagociic/miniconda3/envs/tab_aug/bin/x86_64-conda-linux-gnu-c++', 'CXXFLAGS': '-fvisibility-inlines-hidden -std=c++17 -fmessage-length=0 -march=nocona -mtune=haswell -ftree-vectorize -fPIC -fstack-protector-strong -fno-plt -O2 -ffunction-sections -pipe -isystem /home/tiagociic/miniconda3/envs/tab_aug/include', 'DEBUG_CXXFLAGS': '-fvisibility-inlines-hidden -std=c++17 -fmessage-length=0 -march=nocona -mtune=haswell -ftree-vectorize -fPIC -fstack-protector-all -fno-plt -Og -g -Wall -Wextra -fvar-tracking-assignments -ffunction-sections -pipe -isystem /home/tiagociic/miniconda3/envs/tab_aug/include', 'LDFLAGS': '-Wl,-O2 -Wl,--sort-common -Wl,--as-needed -Wl,-z,relro -Wl,-z,now -Wl,--disable-new-dtags -Wl,--gc-sections -Wl,-rpath,/home/tiagociic/miniconda3/envs/tab_aug/lib -Wl,-rpath-link,/home/tiagociic/miniconda3/envs/tab_aug/lib -L/home/tiagociic/miniconda3/envs/tab_aug/lib', 'DEBUG_CFLAGS': '-march=nocona -mtune=haswell -ftree-vectorize -fPIC -fstack-protector-all -fno-plt -Og -g -Wall -Wextra -fvar-tracking-assignments -ffunction-sections -pipe -isystem /home/tiagociic/miniconda3/envs/tab_aug/include', 'CXX_FOR_BUILD': '/home/tiagociic/miniconda3/envs/tab_aug/bin/x86_64-conda-linux-gnu-c++', 'ELFEDIT': '/home/tiagociic/miniconda3/envs/tab_aug/bin/x86_64-conda-linux-gnu-elfedit', 'CMAKE_PREFIX_PATH': '/home/tiagociic/miniconda3/envs/tab_aug:/home/tiagociic/miniconda3/envs/tab_aug/x86_64-conda-linux-gnu/sysroot/usr', 'CPPFLAGS': '-DNDEBUG -D_FORTIFY_SOURCE=2 -O2 -isystem /home/tiagociic/miniconda3/envs/tab_aug/include', 'LD': '/home/tiagociic/miniconda3/envs/tab_aug/bin/x86_64-conda-linux-gnu-ld', 'READELF': '/home/tiagociic/miniconda3/envs/tab_aug/bin/x86_64-conda-linux-gnu-readelf', 'GXX': '/home/tiagociic/miniconda3/envs/tab_aug/bin/x86_64-conda-linux-gnu-g++', 'GCC_AR': '/home/tiagociic/miniconda3/envs/tab_aug/bin/x86_64-conda-linux-gnu-gcc-ar', 'ADDR2LINE': '/home/tiagociic/miniconda3/envs/tab_aug/bin/x86_64-conda-linux-gnu-addr2line', '_CE_CONDA': '', 'GCC_NM': '/home/tiagociic/miniconda3/envs/tab_aug/bin/x86_64-conda-linux-gnu-gcc-nm', 'SIZE': '/home/tiagociic/miniconda3/envs/tab_aug/bin/x86_64-conda-linux-gnu-size', 'HOST': 'x86_64-conda-linux-gnu', 'CC_FOR_BUILD': '/home/tiagociic/miniconda3/envs/tab_aug/bin/x86_64-conda-linux-gnu-cc', 'PYTHONIOENCODING': 'utf-8', 'AR': '/home/tiagociic/miniconda3/envs/tab_aug/bin/x86_64-conda-linux-gnu-ar', 'AS': '/home/tiagociic/miniconda3/envs/tab_aug/bin/x86_64-conda-linux-gnu-as', 'DEBUG_CPPFLAGS': '-D_DEBUG -D_FORTIFY_SOURCE=2 -Og -isystem /home/tiagociic/miniconda3/envs/tab_aug/include', 'host_alias': 'x86_64-conda-linux-gnu', 'NM': '/home/tiagociic/miniconda3/envs/tab_aug/bin/x86_64-conda-linux-gnu-nm', 'GCC': '/home/tiagociic/miniconda3/envs/tab_aug/bin/x86_64-conda-linux-gnu-gcc', 'LD_GOLD': '/home/tiagociic/miniconda3/envs/tab_aug/bin/x86_64-conda-linux-gnu-ld.gold', 'OBJCOPY': '/home/tiagociic/miniconda3/envs/tab_aug/bin/x86_64-conda-linux-gnu-objcopy', 'STRIP': '/home/tiagociic/miniconda3/envs/tab_aug/bin/x86_64-conda-linux-gnu-strip', 'OBJDUMP': '/home/tiagociic/miniconda3/envs/tab_aug/bin/x86_64-conda-linux-gnu-objdump', 'CC': '/home/tiagociic/miniconda3/envs/tab_aug/bin/x86_64-conda-linux-gnu-cc', 'CFLAGS': '-march=nocona -mtune=haswell -ftree-vectorize -fPIC -fstack-protector-strong -fno-plt -O2 -ffunction-sections -pipe -isystem /home/tiagociic/miniconda3/envs/tab_aug/include', 'CXXFILT': '/home/tiagociic/miniconda3/envs/tab_aug/bin/x86_64-conda-linux-gnu-c++filt', 'BUILD': 'x86_64-conda-linux-gnu', 'CONDA_PREFIX_1': '/home/tiagociic/miniconda3', 'RANLIB': '/home/tiagociic/miniconda3/envs/tab_aug/bin/x86_64-conda-linux-gnu-ranlib', 'CONDA_BUILD_SYSROOT': '/home/tiagociic/miniconda3/envs/tab_aug/x86_64-conda-linux-gnu/sysroot', 'PYDEVD_IPYTHON_COMPATIBLE_DEBUGGING': '1', 'PYDEVD_USE_FRAME_EVAL': 'NO', 'TERM': 'xterm-color', 'CLICOLOR': '1', 'FORCE_COLOR': '1', 'CLICOLOR_FORCE': '1', 'PAGER': 'cat', 'GIT_PAGER': 'cat', 'MPLBACKEND': 'module://matplotlib_inline.backend_inline', 'KMP_DUPLICATE_LIB_OK': 'True', 'KMP_INIT_AT_FORK': 'FALSE', 'CUDA_VISIBLE_DEVICES': '0', 'CUDA_MODULE_LOADING': 'LAZY'})\n"
     ]
    }
   ],
   "source": [
    "import os\n",
    "\n",
    "# Get the value of a specific environment variable\n",
    "os.environ['CUDA_VISIBLE_DEVICES'] = '0'\n",
    "\n",
    "# Get a dictionary of all environment variables\n",
    "print(os.environ)"
   ]
  },
  {
   "cell_type": "code",
   "execution_count": 69,
   "metadata": {},
   "outputs": [
    {
     "name": "stdout",
     "output_type": "stream",
     "text": [
      "True\n"
     ]
    }
   ],
   "source": [
    "import torch\n",
    "print(torch.cuda.is_available())  # Should print True if your setup is correct"
   ]
  },
  {
   "cell_type": "code",
   "execution_count": 70,
   "metadata": {},
   "outputs": [
    {
     "name": "stdout",
     "output_type": "stream",
     "text": [
      "Sun Nov 19 03:10:42 2023       \n",
      "+---------------------------------------------------------------------------------------+\n",
      "| NVIDIA-SMI 535.113.01             Driver Version: 535.113.01   CUDA Version: 12.2     |\n",
      "|-----------------------------------------+----------------------+----------------------+\n",
      "| GPU  Name                 Persistence-M | Bus-Id        Disp.A | Volatile Uncorr. ECC |\n",
      "| Fan  Temp   Perf          Pwr:Usage/Cap |         Memory-Usage | GPU-Util  Compute M. |\n",
      "|                                         |                      |               MIG M. |\n",
      "|=========================================+======================+======================|\n",
      "|   0  NVIDIA GeForce RTX 4060 ...    Off | 00000000:01:00.0 Off |                  N/A |\n",
      "| N/A   41C    P8               3W /  60W |    348MiB /  8188MiB |      0%      Default |\n",
      "|                                         |                      |                  N/A |\n",
      "+-----------------------------------------+----------------------+----------------------+\n",
      "                                                                                         \n",
      "+---------------------------------------------------------------------------------------+\n",
      "| Processes:                                                                            |\n",
      "|  GPU   GI   CI        PID   Type   Process name                            GPU Memory |\n",
      "|        ID   ID                                                             Usage      |\n",
      "|=======================================================================================|\n",
      "|    0   N/A  N/A      5857      G   /usr/lib/xorg/Xorg                            4MiB |\n",
      "|    0   N/A  N/A      7638      C   .../miniconda3/envs/tab_aug/bin/python      334MiB |\n",
      "+---------------------------------------------------------------------------------------+\n"
     ]
    }
   ],
   "source": [
    "!nvidia-smi"
   ]
  },
  {
   "cell_type": "markdown",
   "metadata": {},
   "source": [
    "### GPU"
   ]
  },
  {
   "cell_type": "code",
   "execution_count": 71,
   "metadata": {},
   "outputs": [
    {
     "name": "stdout",
     "output_type": "stream",
     "text": [
      "Using CUDA\n",
      "Total GPU memory: 7.8 GB | Current usage: 0.0 GB\n"
     ]
    }
   ],
   "source": [
    "DEVICE = 'CUDA' if torch.cuda.is_available() else 'CPU'\n",
    "print(\"Using {}\".format(DEVICE))\n",
    "\n",
    "# Info on the device available memory\n",
    "if DEVICE == 'CUDA':\n",
    "    gpu = torch.device('cuda')\n",
    "    total_memory = torch.cuda.get_device_properties(gpu).total_memory / 1024**3\n",
    "    current_memory = torch.cuda.memory_allocated(gpu) / 1024**3\n",
    "\n",
    "    print(f'Total GPU memory: {total_memory:.1f} GB | Current usage: {current_memory:.1f} GB')"
   ]
  },
  {
   "cell_type": "markdown",
   "metadata": {},
   "source": [
    "### Load data"
   ]
  },
  {
   "cell_type": "code",
   "execution_count": 72,
   "metadata": {},
   "outputs": [
    {
     "name": "stdout",
     "output_type": "stream",
     "text": [
      "Loading complete.\n",
      "Train data: 536515 rows, 46 columns. \n",
      "Test data: 381934 rows, 46 columns.\n"
     ]
    }
   ],
   "source": [
    "AUGMENTATION = 'None' # options: 'None', 'GReaT', 'SMOTE', 'SMOTE-NC' or 'RealTabFormer'\n",
    "\n",
    "data_dir = os.path.abspath('../data')\n",
    "\n",
    "# Load the train and test datasets\n",
    "df_train, df_test = utils.load_dataset(data_directory=data_dir, \n",
    "                                       augmentation=AUGMENTATION, \n",
    "                                       ignore_columns=['mbtcp.unit_id', \n",
    "                                                       'mbtcp.trans_id']) "
   ]
  },
  {
   "cell_type": "markdown",
   "metadata": {},
   "source": [
    "### Data preparation"
   ]
  },
  {
   "cell_type": "code",
   "execution_count": 73,
   "metadata": {},
   "outputs": [],
   "source": [
    "# Creates X_train, y_train\n",
    "X_train = df_train.drop(['Attack_label', 'Attack_type'], axis=1)\n",
    "y_train = df_train['Attack_type']\n",
    "\n",
    "# Creates X_test, y_test\n",
    "X_test = df_test.drop(['Attack_label', 'Attack_type'], axis=1)\n",
    "y_test = df_test['Attack_type']"
   ]
  },
  {
   "cell_type": "markdown",
   "metadata": {},
   "source": [
    "#### Convert categorical features to one-hot encoded features"
   ]
  },
  {
   "cell_type": "code",
   "execution_count": 74,
   "metadata": {},
   "outputs": [
    {
     "name": "stdout",
     "output_type": "stream",
     "text": [
      "Categorical features to be encoded:\n",
      "\n",
      "mqtt.topic\n",
      "http.request.version\n",
      "http.request.method\n",
      "dns.qry.name.len\n",
      "http.referer\n",
      "mqtt.protoname\n",
      "mqtt.conack.flags\n",
      "\n",
      "Encoding complete.\n",
      "No of features before encoding: 44\n",
      "No of features after encoding: 44\n"
     ]
    }
   ],
   "source": [
    "# Encode the training and test labels if needed\n",
    "X_train_enc, X_test_enc, info = utils.encode_categorical(X_train, X_test, encoding='label')"
   ]
  },
  {
   "cell_type": "markdown",
   "metadata": {},
   "source": [
    "#### Label encoding"
   ]
  },
  {
   "cell_type": "code",
   "execution_count": 75,
   "metadata": {},
   "outputs": [
    {
     "name": "stdout",
     "output_type": "stream",
     "text": [
      "Attack_type and encoded labels:\n",
      "\n",
      "Backdoor                0\n",
      "DDoS_HTTP               1\n",
      "DDoS_ICMP               2\n",
      "DDoS_TCP                3\n",
      "DDoS_UDP                4\n",
      "Fingerprinting          5\n",
      "MITM                    6\n",
      "Normal                  7\n",
      "Password                8\n",
      "Port_Scanning           9\n",
      "Ransomware              10\n",
      "SQL_injection           11\n",
      "Uploading               12\n",
      "Vulnerability_scanner   13\n",
      "XSS                     14\n"
     ]
    }
   ],
   "source": [
    "y_train_enc, y_test_enc, le = utils.encode_labels(y_train, y_test)"
   ]
  },
  {
   "cell_type": "markdown",
   "metadata": {},
   "source": [
    "### Model Training"
   ]
  },
  {
   "cell_type": "code",
   "execution_count": 76,
   "metadata": {},
   "outputs": [
    {
     "name": "stderr",
     "output_type": "stream",
     "text": [
      "/home/tiagociic/miniconda3/envs/tab_aug/lib/python3.10/site-packages/pytorch_tabnet/abstract_model.py:82: UserWarning: Device used : cuda\n",
      "  warnings.warn(f\"Device used : {self.device}\")\n",
      "/home/tiagociic/miniconda3/envs/tab_aug/lib/python3.10/site-packages/pytorch_tabnet/abstract_model.py:687: UserWarning: No early stopping will be performed, last training weights will be used.\n",
      "  warnings.warn(wrn_msg)\n"
     ]
    },
    {
     "name": "stdout",
     "output_type": "stream",
     "text": [
      "epoch 0  | loss: 0.48332 |  0:00:14s\n",
      "epoch 1  | loss: 0.37889 |  0:00:27s\n",
      "epoch 2  | loss: 0.33639 |  0:00:40s\n",
      "epoch 3  | loss: 0.32569 |  0:00:52s\n",
      "epoch 4  | loss: 0.32342 |  0:01:05s\n",
      "epoch 5  | loss: 0.32902 |  0:01:18s\n",
      "epoch 6  | loss: 0.32158 |  0:01:31s\n",
      "epoch 7  | loss: 0.31593 |  0:01:44s\n",
      "epoch 8  | loss: 0.32192 |  0:01:57s\n",
      "epoch 9  | loss: 0.31439 |  0:02:10s\n",
      "epoch 10 | loss: 0.3096  |  0:02:23s\n",
      "epoch 11 | loss: 0.31143 |  0:02:35s\n",
      "epoch 12 | loss: 0.30588 |  0:02:48s\n",
      "epoch 13 | loss: 0.30201 |  0:03:01s\n",
      "epoch 14 | loss: 0.30415 |  0:03:14s\n",
      "epoch 15 | loss: 0.30417 |  0:03:27s\n",
      "epoch 16 | loss: 0.30472 |  0:03:40s\n",
      "epoch 17 | loss: 0.30119 |  0:03:52s\n",
      "epoch 18 | loss: 0.30399 |  0:04:05s\n",
      "epoch 19 | loss: 0.30121 |  0:04:19s\n",
      "epoch 20 | loss: 0.30044 |  0:04:31s\n",
      "epoch 21 | loss: 0.30097 |  0:04:44s\n",
      "epoch 22 | loss: 0.2979  |  0:04:57s\n",
      "epoch 23 | loss: 0.29885 |  0:05:10s\n",
      "epoch 24 | loss: 0.29854 |  0:05:22s\n",
      "epoch 25 | loss: 0.29865 |  0:05:34s\n",
      "epoch 26 | loss: 0.29724 |  0:05:46s\n",
      "epoch 27 | loss: 0.29845 |  0:05:58s\n",
      "epoch 28 | loss: 0.3025  |  0:06:10s\n",
      "epoch 29 | loss: 0.29722 |  0:06:22s\n",
      "epoch 30 | loss: 0.29739 |  0:06:36s\n",
      "epoch 31 | loss: 0.29848 |  0:06:49s\n",
      "epoch 32 | loss: 0.30063 |  0:07:02s\n",
      "epoch 33 | loss: 0.29791 |  0:07:15s\n",
      "epoch 34 | loss: 0.29845 |  0:07:28s\n",
      "epoch 35 | loss: 0.3008  |  0:07:41s\n",
      "epoch 36 | loss: 0.30035 |  0:07:54s\n",
      "epoch 37 | loss: 0.30394 |  0:08:07s\n",
      "epoch 38 | loss: 0.30033 |  0:08:19s\n",
      "epoch 39 | loss: 0.29976 |  0:08:32s\n",
      "epoch 40 | loss: 0.29957 |  0:08:45s\n",
      "epoch 41 | loss: 0.30148 |  0:08:58s\n",
      "epoch 42 | loss: 0.29858 |  0:09:11s\n",
      "epoch 43 | loss: 0.2944  |  0:09:24s\n",
      "epoch 44 | loss: 0.29472 |  0:09:37s\n",
      "epoch 45 | loss: 0.29297 |  0:09:50s\n",
      "epoch 46 | loss: 0.295   |  0:10:03s\n",
      "epoch 47 | loss: 0.29158 |  0:10:16s\n",
      "epoch 48 | loss: 0.29113 |  0:10:29s\n",
      "epoch 49 | loss: 0.29185 |  0:10:41s\n",
      "epoch 50 | loss: 0.29143 |  0:10:54s\n",
      "epoch 51 | loss: 0.29239 |  0:11:07s\n",
      "epoch 52 | loss: 0.2925  |  0:11:20s\n",
      "epoch 53 | loss: 0.29013 |  0:11:33s\n",
      "epoch 54 | loss: 0.29094 |  0:11:46s\n",
      "epoch 55 | loss: 0.29551 |  0:11:59s\n",
      "epoch 56 | loss: 0.29329 |  0:12:12s\n",
      "epoch 57 | loss: 0.29322 |  0:12:24s\n",
      "epoch 58 | loss: 0.2917  |  0:12:37s\n",
      "epoch 59 | loss: 0.29484 |  0:12:50s\n",
      "epoch 60 | loss: 0.29128 |  0:13:03s\n",
      "epoch 61 | loss: 0.30302 |  0:13:15s\n",
      "epoch 62 | loss: 0.29187 |  0:13:28s\n",
      "epoch 63 | loss: 0.29111 |  0:13:40s\n",
      "epoch 64 | loss: 0.29229 |  0:13:53s\n",
      "epoch 65 | loss: 0.29021 |  0:14:06s\n",
      "epoch 66 | loss: 0.29191 |  0:14:19s\n",
      "epoch 67 | loss: 0.29073 |  0:14:32s\n",
      "epoch 68 | loss: 0.29042 |  0:14:45s\n",
      "epoch 69 | loss: 0.28996 |  0:14:56s\n",
      "epoch 70 | loss: 0.29005 |  0:15:08s\n",
      "epoch 71 | loss: 0.29026 |  0:15:20s\n",
      "epoch 72 | loss: 0.29071 |  0:15:32s\n",
      "epoch 73 | loss: 0.29007 |  0:15:43s\n",
      "epoch 74 | loss: 0.29028 |  0:15:55s\n",
      "epoch 75 | loss: 0.29042 |  0:16:07s\n",
      "epoch 76 | loss: 0.29037 |  0:16:18s\n",
      "epoch 77 | loss: 0.29065 |  0:16:30s\n",
      "epoch 78 | loss: 0.28946 |  0:16:42s\n",
      "epoch 79 | loss: 0.28975 |  0:16:53s\n",
      "epoch 80 | loss: 0.28987 |  0:17:05s\n",
      "epoch 81 | loss: 0.28973 |  0:17:17s\n",
      "epoch 82 | loss: 0.29064 |  0:17:30s\n",
      "epoch 83 | loss: 0.2917  |  0:17:41s\n",
      "epoch 84 | loss: 0.29112 |  0:17:53s\n",
      "epoch 85 | loss: 0.28937 |  0:18:05s\n",
      "epoch 86 | loss: 0.29079 |  0:18:17s\n",
      "epoch 87 | loss: 0.2899  |  0:18:29s\n",
      "epoch 88 | loss: 0.2895  |  0:18:42s\n",
      "epoch 89 | loss: 0.28915 |  0:18:53s\n",
      "epoch 90 | loss: 0.28895 |  0:19:05s\n",
      "epoch 91 | loss: 0.28965 |  0:19:17s\n",
      "epoch 92 | loss: 0.28899 |  0:19:28s\n",
      "epoch 93 | loss: 0.29053 |  0:19:40s\n",
      "epoch 94 | loss: 0.29504 |  0:19:52s\n",
      "epoch 95 | loss: 0.28967 |  0:20:04s\n",
      "epoch 96 | loss: 0.28953 |  0:20:16s\n",
      "epoch 97 | loss: 0.28902 |  0:20:28s\n",
      "epoch 98 | loss: 0.2896  |  0:20:40s\n",
      "epoch 99 | loss: 0.2903  |  0:20:52s\n"
     ]
    }
   ],
   "source": [
    "# pytorch_tabnet default parameters\n",
    "# tabnet = TabNetClassifier()\n",
    "\n",
    "tabnet = TabNetClassifier(\n",
    "    n_d=64, n_a=64, n_steps=5,\n",
    "    gamma=1.5, n_independent=2, n_shared=2,\n",
    "    cat_emb_dim=1,\n",
    "    lambda_sparse=1e-4, momentum=0.3, clip_value=2.,\n",
    "    optimizer_fn=torch.optim.Adam,\n",
    "    optimizer_params=dict(lr=2e-2),\n",
    "    scheduler_params = {\"gamma\": 0.95, \"step_size\": 20},\n",
    "    scheduler_fn=torch.optim.lr_scheduler.StepLR, epsilon=1e-15\n",
    ")\n",
    "\n",
    "tabnet.fit(X_train=X_train_enc.values, \n",
    "            y_train=y_train_enc,\n",
    "            augmentations=None,\n",
    "            max_epochs=100,\n",
    "            )"
   ]
  },
  {
   "cell_type": "code",
   "execution_count": 77,
   "metadata": {},
   "outputs": [],
   "source": [
    "# # Shuffle training data\n",
    "# # X_train_enc, y_train_enc = shuffle(X_train_enc, y_train_enc, random_state=42)\n",
    "\n",
    "# if AUGMENTATION == 'SMOTE'or AUGMENTATION == 'SMOTE-NC':\n",
    "#     # pytorch_tabnet default parameters\n",
    "#     tabnet = TabNetClassifier()\n",
    "    \n",
    "#     tabnet.fit(X_train=X_train_enc.values, \n",
    "#                y_train=y_train_enc,\n",
    "#                augmentations=None,\n",
    "#                max_epochs=100,\n",
    "#                )\n",
    "# else: # AUGMENTATION == 'None', 'RealTabFormer', 'GReaT'\n",
    "\n",
    "\n",
    "#     # retrieve the categorical features indexes and their dimension\n",
    "#     cat_cols = info['categorical_columns']\n",
    "\n",
    "#     cat_idxs = [X_train_enc.columns.get_loc(col) for col in cat_cols]\n",
    "#     cat_dims = [X_train_enc[col].nunique() for col in cat_cols]\n",
    "    \n",
    "#     # cat_idxs = [X_train_enc.columns.get_loc(col) for col in cat_cols]\n",
    "    \n",
    "#     # # retrive unique values of the categorical columns in X_train_enc\n",
    "#     # cat_dims = [len(X_train_enc[col].unique()) for col in cat_cols]\n",
    "#     print(f\"cat_cols: {cat_cols}\")\n",
    "#     print(f\"cat_idxs: {cat_idxs}\")\n",
    "#     print(f\"cat_dims: {cat_dims}\")\n",
    "#     # cat_emb_dim = [min(50, (x + 1) // 2) for x in cat_dims]\n",
    "#     # Check if the indices are within the range of your dataset\n",
    "#     max_index = X_train_enc.shape[1] - 1  # Assuming X_train_enc is your training dataset\n",
    "#     for idx in cat_idxs:\n",
    "#         if idx > max_index:\n",
    "#             print(f\"Index {idx} is out of range for the dataset.\")\n",
    "\n",
    "#     # Ensure that the dimensions align with the indices\n",
    "#     if len(cat_idxs) != len(cat_dims):\n",
    "#         print(\"The length of cat_idxs and cat_dims should be the same.\")\n",
    "\n",
    "#     # If everything is correct, initialize the TabNet model\n",
    "#     tabnet = TabNetClassifier(cat_idxs=cat_idxs,\n",
    "#                             cat_dims=cat_dims,\n",
    "#                             cat_emb_dim=[min(50, (dim + 1) // 2) for dim in cat_dims],\n",
    "#                             )\n",
    "     \n",
    "#     # tabnet = TabNetClassifier(cat_idxs=cat_idxs,\n",
    "#     #                           cat_dims=cat_dims,\n",
    "#     #                           cat_emb_dim=cat_emb_dim,    # categorical features embedding dimension\n",
    "#     #                           )\n",
    "#     tabnet.fit(X_train=X_train_enc.values, \n",
    "#                y_train=y_train_enc,\n",
    "#                augmentations=None,\n",
    "#                max_epochs=100,\n",
    "#                )"
   ]
  },
  {
   "cell_type": "code",
   "execution_count": 78,
   "metadata": {},
   "outputs": [],
   "source": [
    "# import pandas as pd\n",
    "\n",
    "# # Assuming X_train_enc is your training dataset\n",
    "# X_train_unique_values = X_train_enc.iloc[:, cat_idxs].nunique()\n",
    "\n",
    "# # Check if unique values match specified dimensions\n",
    "# for idx, dim, unique_values in zip(cat_idxs, cat_dims, X_train_unique_values):\n",
    "#     print(f\"Index: {idx} | Dimension: {dim} | Unique values: {unique_values}\")\n",
    "\n",
    "# # Check if the indices are within the range of your dataset\n",
    "# max_index = X_train_enc.shape[1] - 1\n",
    "# for idx in cat_idxs:\n",
    "#     if idx > max_index:\n",
    "#         print(f\"Index {idx} is out of range for the dataset.\")\n",
    "\n",
    "# # Ensure that the dimensions align with the indices\n",
    "# if len(cat_idxs) != len(cat_dims):\n",
    "#     print(\"The length of cat_idxs and cat_dims should be the same.\")\n"
   ]
  },
  {
   "cell_type": "code",
   "execution_count": 79,
   "metadata": {},
   "outputs": [],
   "source": [
    "# # find columns indexes for categorical columns in X_train\n",
    "# cat_cols = info['categorical_columns']\n",
    "# cat_cols\n",
    "# # retrive indexes of the categorical columns in X_train_enc\n",
    "# cat_idxs = [X_train_enc.columns.get_loc(col) for col in cat_cols]\n",
    "# # print column idx, name and number of unique values\n",
    "# for col in cat_cols:\n",
    "#     print(f\"Index: {X_train_enc.columns.get_loc(col)} | Column: {col} | Unique values: {X_train_enc[col].nunique()}\")\n"
   ]
  },
  {
   "cell_type": "code",
   "execution_count": 80,
   "metadata": {},
   "outputs": [
    {
     "name": "stdout",
     "output_type": "stream",
     "text": [
      "X_train_enc has NaN values? False\n",
      "y_train_enc has NaN values? False\n",
      "X_test_enc  has NaN values? False\n",
      "y_test_enc  has NaN values? False\n"
     ]
    }
   ],
   "source": [
    "# check if X_train_enc, y_train_enc, X_test_enc, y_test_enc have NaN values in one line\n",
    "print(f\"X_train_enc has NaN values? {np.isnan(X_train_enc.values).any()}\\ny_train_enc has NaN values? {np.isnan(y_train_enc).any()}\")\n",
    "print(f\"X_test_enc  has NaN values? {np.isnan(X_test_enc.values).any()}\\ny_test_enc  has NaN values? {np.isnan(y_test_enc).any()}\")"
   ]
  },
  {
   "cell_type": "code",
   "execution_count": 81,
   "metadata": {},
   "outputs": [
    {
     "name": "stdout",
     "output_type": "stream",
     "text": [
      "X_train_enc has categorical values? False\n",
      "X_test_enc  has categorical values? False\n"
     ]
    }
   ],
   "source": [
    "# check if X_train_enc, y_train_enc, X_test_enc, y_test_enc have any categorical values\n",
    "print(f\"X_train_enc has categorical values? {X_train_enc.select_dtypes(include=['object']).any().any()}\")\n",
    "print(f\"X_test_enc  has categorical values? {X_test_enc.select_dtypes(include=['object']).any().any()}\")"
   ]
  },
  {
   "cell_type": "code",
   "execution_count": 82,
   "metadata": {},
   "outputs": [],
   "source": [
    "# # print the datatypes from the categorical columns\n",
    "# print(f\"X_train_enc categorical columns datatypes:\\n{X_train_enc[cat_cols].dtypes}\")\n"
   ]
  },
  {
   "cell_type": "markdown",
   "metadata": {},
   "source": [
    "#### Save model"
   ]
  },
  {
   "cell_type": "code",
   "execution_count": 83,
   "metadata": {},
   "outputs": [
    {
     "name": "stdout",
     "output_type": "stream",
     "text": [
      "Successfully saved model at checkpoints/tabnet/tabnet_None.zip\n"
     ]
    }
   ],
   "source": [
    "saved_filename = tabnet.save_model(f'checkpoints/tabnet/tabnet_{AUGMENTATION}')"
   ]
  },
  {
   "cell_type": "markdown",
   "metadata": {},
   "source": [
    "### Model Evaluation"
   ]
  },
  {
   "cell_type": "code",
   "execution_count": 84,
   "metadata": {},
   "outputs": [],
   "source": [
    "predictions = tabnet.predict(X_test_enc.values)"
   ]
  },
  {
   "cell_type": "markdown",
   "metadata": {},
   "source": [
    "#### Metrics"
   ]
  },
  {
   "cell_type": "code",
   "execution_count": 85,
   "metadata": {},
   "outputs": [],
   "source": [
    "accuracy = metrics.accuracy_score(y_test_enc, predictions)\n",
    "precision_w = metrics.precision_score(y_test_enc, predictions, average='weighted', zero_division=1)\n",
    "recall_w = metrics.recall_score(y_test_enc, predictions, average='weighted')\n",
    "f1_score_w = metrics.f1_score(y_test_enc, predictions, average='weighted')\n",
    "precision_m = metrics.precision_score(y_test_enc, predictions, average='macro', zero_division=1)\n",
    "recall_m = metrics.recall_score(y_test_enc, predictions, average='macro')\n",
    "f1_score_m = metrics.f1_score(y_test_enc, predictions, average='macro')"
   ]
  },
  {
   "cell_type": "code",
   "execution_count": 86,
   "metadata": {},
   "outputs": [
    {
     "name": "stdout",
     "output_type": "stream",
     "text": [
      "╒══════════════════════╤═════════╕\n",
      "│ Metric               │ Value   │\n",
      "╞══════════════════════╪═════════╡\n",
      "│ Accuracy             │ 86.69%  │\n",
      "├──────────────────────┼─────────┤\n",
      "│ Precision (macro)    │ 75.08%  │\n",
      "├──────────────────────┼─────────┤\n",
      "│ Recall (macro)       │ 59.47%  │\n",
      "├──────────────────────┼─────────┤\n",
      "│ F1 (macro)           │ 55.79%  │\n",
      "├──────────────────────┼─────────┤\n",
      "│ Precision (weighted) │ 89.14%  │\n",
      "├──────────────────────┼─────────┤\n",
      "│ Recall (weighted)    │ 86.69%  │\n",
      "├──────────────────────┼─────────┤\n",
      "│ F1 (weighted)        │ 84.95%  │\n",
      "╘══════════════════════╧═════════╛\n"
     ]
    }
   ],
   "source": [
    "# Create dictionary for results\n",
    "results = {\n",
    "    \"model\": \"TabNet\",\n",
    "    \"augmentations\": AUGMENTATION,\n",
    "    \"timestamp\": datetime.datetime.now().strftime(\"%Y-%m-%d %H:%M:%S\"),\n",
    "    \"accuracy\": accuracy,\n",
    "    \"precision_macro\": precision_m,\n",
    "    \"recall_macro\": recall_m,\n",
    "    \"f1_macro\": f1_score_m,\n",
    "    \"precision_weighted\": precision_w,\n",
    "    \"recall_weighted\": recall_w,\n",
    "    \"f1_weighted\": f1_score_w\n",
    "    }\n",
    "\n",
    "utils.print_results_table(results)"
   ]
  },
  {
   "cell_type": "markdown",
   "metadata": {},
   "source": [
    "#### Save Metrics Results "
   ]
  },
  {
   "cell_type": "code",
   "execution_count": 87,
   "metadata": {},
   "outputs": [],
   "source": [
    "# save results to csv   \n",
    "utils.save_results_to_csv([results], '../results/metrics/tabnet.csv')"
   ]
  },
  {
   "cell_type": "markdown",
   "metadata": {},
   "source": [
    "#### Confusion matrix"
   ]
  },
  {
   "cell_type": "code",
   "execution_count": 88,
   "metadata": {},
   "outputs": [
    {
     "data": {
      "text/html": [
       "<div>\n",
       "<style scoped>\n",
       "    .dataframe tbody tr th:only-of-type {\n",
       "        vertical-align: middle;\n",
       "    }\n",
       "\n",
       "    .dataframe tbody tr th {\n",
       "        vertical-align: top;\n",
       "    }\n",
       "\n",
       "    .dataframe thead th {\n",
       "        text-align: right;\n",
       "    }\n",
       "</style>\n",
       "<table border=\"1\" class=\"dataframe\">\n",
       "  <thead>\n",
       "    <tr style=\"text-align: right;\">\n",
       "      <th>Predicted</th>\n",
       "      <th>Backdoor</th>\n",
       "      <th>DDoS_HTTP</th>\n",
       "      <th>DDoS_ICMP</th>\n",
       "      <th>DDoS_TCP</th>\n",
       "      <th>DDoS_UDP</th>\n",
       "      <th>Fingerprinting</th>\n",
       "      <th>MITM</th>\n",
       "      <th>Normal</th>\n",
       "      <th>Password</th>\n",
       "      <th>Port_Scanning</th>\n",
       "      <th>Ransomware</th>\n",
       "      <th>SQL_injection</th>\n",
       "      <th>Uploading</th>\n",
       "      <th>Vulnerability_scanner</th>\n",
       "      <th>XSS</th>\n",
       "    </tr>\n",
       "    <tr>\n",
       "      <th>Actual</th>\n",
       "      <th></th>\n",
       "      <th></th>\n",
       "      <th></th>\n",
       "      <th></th>\n",
       "      <th></th>\n",
       "      <th></th>\n",
       "      <th></th>\n",
       "      <th></th>\n",
       "      <th></th>\n",
       "      <th></th>\n",
       "      <th></th>\n",
       "      <th></th>\n",
       "      <th></th>\n",
       "      <th></th>\n",
       "      <th></th>\n",
       "    </tr>\n",
       "  </thead>\n",
       "  <tbody>\n",
       "    <tr>\n",
       "      <th>Backdoor</th>\n",
       "      <td>4530</td>\n",
       "      <td>0</td>\n",
       "      <td>1</td>\n",
       "      <td>82</td>\n",
       "      <td>169</td>\n",
       "      <td>0</td>\n",
       "      <td>0</td>\n",
       "      <td>0</td>\n",
       "      <td>0</td>\n",
       "      <td>0</td>\n",
       "      <td>0</td>\n",
       "      <td>0</td>\n",
       "      <td>0</td>\n",
       "      <td>0</td>\n",
       "      <td>0</td>\n",
       "    </tr>\n",
       "    <tr>\n",
       "      <th>DDoS_HTTP</th>\n",
       "      <td>0</td>\n",
       "      <td>8797</td>\n",
       "      <td>0</td>\n",
       "      <td>0</td>\n",
       "      <td>0</td>\n",
       "      <td>0</td>\n",
       "      <td>0</td>\n",
       "      <td>0</td>\n",
       "      <td>0</td>\n",
       "      <td>0</td>\n",
       "      <td>0</td>\n",
       "      <td>0</td>\n",
       "      <td>0</td>\n",
       "      <td>6</td>\n",
       "      <td>825</td>\n",
       "    </tr>\n",
       "    <tr>\n",
       "      <th>DDoS_ICMP</th>\n",
       "      <td>0</td>\n",
       "      <td>0</td>\n",
       "      <td>13501</td>\n",
       "      <td>0</td>\n",
       "      <td>0</td>\n",
       "      <td>0</td>\n",
       "      <td>0</td>\n",
       "      <td>0</td>\n",
       "      <td>0</td>\n",
       "      <td>0</td>\n",
       "      <td>0</td>\n",
       "      <td>0</td>\n",
       "      <td>0</td>\n",
       "      <td>0</td>\n",
       "      <td>0</td>\n",
       "    </tr>\n",
       "    <tr>\n",
       "      <th>DDoS_TCP</th>\n",
       "      <td>0</td>\n",
       "      <td>0</td>\n",
       "      <td>0</td>\n",
       "      <td>10009</td>\n",
       "      <td>0</td>\n",
       "      <td>0</td>\n",
       "      <td>0</td>\n",
       "      <td>0</td>\n",
       "      <td>0</td>\n",
       "      <td>0</td>\n",
       "      <td>0</td>\n",
       "      <td>0</td>\n",
       "      <td>0</td>\n",
       "      <td>0</td>\n",
       "      <td>0</td>\n",
       "    </tr>\n",
       "    <tr>\n",
       "      <th>DDoS_UDP</th>\n",
       "      <td>0</td>\n",
       "      <td>0</td>\n",
       "      <td>22316</td>\n",
       "      <td>0</td>\n",
       "      <td>2285</td>\n",
       "      <td>0</td>\n",
       "      <td>0</td>\n",
       "      <td>0</td>\n",
       "      <td>0</td>\n",
       "      <td>0</td>\n",
       "      <td>0</td>\n",
       "      <td>0</td>\n",
       "      <td>0</td>\n",
       "      <td>0</td>\n",
       "      <td>0</td>\n",
       "    </tr>\n",
       "    <tr>\n",
       "      <th>Fingerprinting</th>\n",
       "      <td>0</td>\n",
       "      <td>0</td>\n",
       "      <td>98</td>\n",
       "      <td>23</td>\n",
       "      <td>24</td>\n",
       "      <td>0</td>\n",
       "      <td>0</td>\n",
       "      <td>0</td>\n",
       "      <td>0</td>\n",
       "      <td>0</td>\n",
       "      <td>1</td>\n",
       "      <td>0</td>\n",
       "      <td>0</td>\n",
       "      <td>0</td>\n",
       "      <td>0</td>\n",
       "    </tr>\n",
       "    <tr>\n",
       "      <th>MITM</th>\n",
       "      <td>0</td>\n",
       "      <td>0</td>\n",
       "      <td>0</td>\n",
       "      <td>0</td>\n",
       "      <td>0</td>\n",
       "      <td>0</td>\n",
       "      <td>76</td>\n",
       "      <td>0</td>\n",
       "      <td>0</td>\n",
       "      <td>0</td>\n",
       "      <td>0</td>\n",
       "      <td>0</td>\n",
       "      <td>0</td>\n",
       "      <td>0</td>\n",
       "      <td>0</td>\n",
       "    </tr>\n",
       "    <tr>\n",
       "      <th>Normal</th>\n",
       "      <td>0</td>\n",
       "      <td>0</td>\n",
       "      <td>0</td>\n",
       "      <td>0</td>\n",
       "      <td>0</td>\n",
       "      <td>0</td>\n",
       "      <td>0</td>\n",
       "      <td>272776</td>\n",
       "      <td>0</td>\n",
       "      <td>0</td>\n",
       "      <td>0</td>\n",
       "      <td>0</td>\n",
       "      <td>0</td>\n",
       "      <td>0</td>\n",
       "      <td>0</td>\n",
       "    </tr>\n",
       "    <tr>\n",
       "      <th>Password</th>\n",
       "      <td>0</td>\n",
       "      <td>0</td>\n",
       "      <td>0</td>\n",
       "      <td>0</td>\n",
       "      <td>0</td>\n",
       "      <td>0</td>\n",
       "      <td>0</td>\n",
       "      <td>0</td>\n",
       "      <td>2099</td>\n",
       "      <td>0</td>\n",
       "      <td>0</td>\n",
       "      <td>7785</td>\n",
       "      <td>224</td>\n",
       "      <td>0</td>\n",
       "      <td>0</td>\n",
       "    </tr>\n",
       "    <tr>\n",
       "      <th>Port_Scanning</th>\n",
       "      <td>0</td>\n",
       "      <td>0</td>\n",
       "      <td>0</td>\n",
       "      <td>2027</td>\n",
       "      <td>2035</td>\n",
       "      <td>0</td>\n",
       "      <td>0</td>\n",
       "      <td>0</td>\n",
       "      <td>0</td>\n",
       "      <td>0</td>\n",
       "      <td>0</td>\n",
       "      <td>0</td>\n",
       "      <td>0</td>\n",
       "      <td>0</td>\n",
       "      <td>0</td>\n",
       "    </tr>\n",
       "    <tr>\n",
       "      <th>Ransomware</th>\n",
       "      <td>65</td>\n",
       "      <td>0</td>\n",
       "      <td>0</td>\n",
       "      <td>46</td>\n",
       "      <td>103</td>\n",
       "      <td>0</td>\n",
       "      <td>0</td>\n",
       "      <td>0</td>\n",
       "      <td>0</td>\n",
       "      <td>0</td>\n",
       "      <td>1712</td>\n",
       "      <td>0</td>\n",
       "      <td>0</td>\n",
       "      <td>0</td>\n",
       "      <td>0</td>\n",
       "    </tr>\n",
       "    <tr>\n",
       "      <th>SQL_injection</th>\n",
       "      <td>0</td>\n",
       "      <td>1</td>\n",
       "      <td>0</td>\n",
       "      <td>0</td>\n",
       "      <td>0</td>\n",
       "      <td>0</td>\n",
       "      <td>0</td>\n",
       "      <td>0</td>\n",
       "      <td>1366</td>\n",
       "      <td>0</td>\n",
       "      <td>0</td>\n",
       "      <td>8103</td>\n",
       "      <td>0</td>\n",
       "      <td>601</td>\n",
       "      <td>0</td>\n",
       "    </tr>\n",
       "    <tr>\n",
       "      <th>Uploading</th>\n",
       "      <td>0</td>\n",
       "      <td>1</td>\n",
       "      <td>0</td>\n",
       "      <td>0</td>\n",
       "      <td>0</td>\n",
       "      <td>0</td>\n",
       "      <td>0</td>\n",
       "      <td>0</td>\n",
       "      <td>384</td>\n",
       "      <td>0</td>\n",
       "      <td>0</td>\n",
       "      <td>4787</td>\n",
       "      <td>2101</td>\n",
       "      <td>0</td>\n",
       "      <td>0</td>\n",
       "    </tr>\n",
       "    <tr>\n",
       "      <th>Vulnerability_scanner</th>\n",
       "      <td>0</td>\n",
       "      <td>4006</td>\n",
       "      <td>0</td>\n",
       "      <td>0</td>\n",
       "      <td>0</td>\n",
       "      <td>0</td>\n",
       "      <td>1</td>\n",
       "      <td>0</td>\n",
       "      <td>0</td>\n",
       "      <td>0</td>\n",
       "      <td>0</td>\n",
       "      <td>0</td>\n",
       "      <td>0</td>\n",
       "      <td>3955</td>\n",
       "      <td>1978</td>\n",
       "    </tr>\n",
       "    <tr>\n",
       "      <th>XSS</th>\n",
       "      <td>0</td>\n",
       "      <td>1883</td>\n",
       "      <td>0</td>\n",
       "      <td>0</td>\n",
       "      <td>0</td>\n",
       "      <td>0</td>\n",
       "      <td>0</td>\n",
       "      <td>0</td>\n",
       "      <td>0</td>\n",
       "      <td>0</td>\n",
       "      <td>0</td>\n",
       "      <td>0</td>\n",
       "      <td>0</td>\n",
       "      <td>2</td>\n",
       "      <td>1150</td>\n",
       "    </tr>\n",
       "  </tbody>\n",
       "</table>\n",
       "</div>"
      ],
      "text/plain": [
       "Predicted              Backdoor  DDoS_HTTP  DDoS_ICMP  DDoS_TCP  DDoS_UDP  \\\n",
       "Actual                                                                      \n",
       "Backdoor                   4530          0          1        82       169   \n",
       "DDoS_HTTP                     0       8797          0         0         0   \n",
       "DDoS_ICMP                     0          0      13501         0         0   \n",
       "DDoS_TCP                      0          0          0     10009         0   \n",
       "DDoS_UDP                      0          0      22316         0      2285   \n",
       "Fingerprinting                0          0         98        23        24   \n",
       "MITM                          0          0          0         0         0   \n",
       "Normal                        0          0          0         0         0   \n",
       "Password                      0          0          0         0         0   \n",
       "Port_Scanning                 0          0          0      2027      2035   \n",
       "Ransomware                   65          0          0        46       103   \n",
       "SQL_injection                 0          1          0         0         0   \n",
       "Uploading                     0          1          0         0         0   \n",
       "Vulnerability_scanner         0       4006          0         0         0   \n",
       "XSS                           0       1883          0         0         0   \n",
       "\n",
       "Predicted              Fingerprinting  MITM  Normal  Password  Port_Scanning  \\\n",
       "Actual                                                                         \n",
       "Backdoor                            0     0       0         0              0   \n",
       "DDoS_HTTP                           0     0       0         0              0   \n",
       "DDoS_ICMP                           0     0       0         0              0   \n",
       "DDoS_TCP                            0     0       0         0              0   \n",
       "DDoS_UDP                            0     0       0         0              0   \n",
       "Fingerprinting                      0     0       0         0              0   \n",
       "MITM                                0    76       0         0              0   \n",
       "Normal                              0     0  272776         0              0   \n",
       "Password                            0     0       0      2099              0   \n",
       "Port_Scanning                       0     0       0         0              0   \n",
       "Ransomware                          0     0       0         0              0   \n",
       "SQL_injection                       0     0       0      1366              0   \n",
       "Uploading                           0     0       0       384              0   \n",
       "Vulnerability_scanner               0     1       0         0              0   \n",
       "XSS                                 0     0       0         0              0   \n",
       "\n",
       "Predicted              Ransomware  SQL_injection  Uploading  \\\n",
       "Actual                                                        \n",
       "Backdoor                        0              0          0   \n",
       "DDoS_HTTP                       0              0          0   \n",
       "DDoS_ICMP                       0              0          0   \n",
       "DDoS_TCP                        0              0          0   \n",
       "DDoS_UDP                        0              0          0   \n",
       "Fingerprinting                  1              0          0   \n",
       "MITM                            0              0          0   \n",
       "Normal                          0              0          0   \n",
       "Password                        0           7785        224   \n",
       "Port_Scanning                   0              0          0   \n",
       "Ransomware                   1712              0          0   \n",
       "SQL_injection                   0           8103          0   \n",
       "Uploading                       0           4787       2101   \n",
       "Vulnerability_scanner           0              0          0   \n",
       "XSS                             0              0          0   \n",
       "\n",
       "Predicted              Vulnerability_scanner   XSS  \n",
       "Actual                                              \n",
       "Backdoor                                   0     0  \n",
       "DDoS_HTTP                                  6   825  \n",
       "DDoS_ICMP                                  0     0  \n",
       "DDoS_TCP                                   0     0  \n",
       "DDoS_UDP                                   0     0  \n",
       "Fingerprinting                             0     0  \n",
       "MITM                                       0     0  \n",
       "Normal                                     0     0  \n",
       "Password                                   0     0  \n",
       "Port_Scanning                              0     0  \n",
       "Ransomware                                 0     0  \n",
       "SQL_injection                            601     0  \n",
       "Uploading                                  0     0  \n",
       "Vulnerability_scanner                   3955  1978  \n",
       "XSS                                        2  1150  "
      ]
     },
     "execution_count": 88,
     "metadata": {},
     "output_type": "execute_result"
    }
   ],
   "source": [
    "conf_mat = metrics.confusion_matrix(y_test_enc, predictions)\n",
    "\n",
    "attack_labels = ['Backdoor', 'DDoS_HTTP', 'DDoS_ICMP', 'DDoS_TCP', 'DDoS_UDP', \n",
    "'Fingerprinting', 'MITM', 'Normal', 'Password', 'Port_Scanning', 'Ransomware', \n",
    "'SQL_injection', 'Uploading', 'Vulnerability_scanner', 'XSS']\n",
    "\n",
    "# Create a dataframe from the confusion matrix\n",
    "conf_mat_df = pd.DataFrame(conf_mat, \n",
    "                           index = attack_labels, \n",
    "                           columns = attack_labels)\n",
    "conf_mat_df.index.name = 'Actual'\n",
    "conf_mat_df.columns.name = 'Predicted'\n",
    "\n",
    "# Save the confusion matrix\n",
    "conf_mat_df.to_csv(f\"../results/conf_matrix/{results['model']}_{results['augmentations']}.csv\")\n",
    "conf_mat_df"
   ]
  }
 ],
 "metadata": {
  "kernelspec": {
   "display_name": "data_augment",
   "language": "python",
   "name": "python3"
  },
  "language_info": {
   "codemirror_mode": {
    "name": "ipython",
    "version": 3
   },
   "file_extension": ".py",
   "mimetype": "text/x-python",
   "name": "python",
   "nbconvert_exporter": "python",
   "pygments_lexer": "ipython3",
   "version": "3.10.13"
  }
 },
 "nbformat": 4,
 "nbformat_minor": 2
}
